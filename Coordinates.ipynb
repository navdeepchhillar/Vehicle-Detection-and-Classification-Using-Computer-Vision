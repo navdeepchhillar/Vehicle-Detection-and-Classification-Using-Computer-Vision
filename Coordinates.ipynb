{
 "cells": [
  {
   "cell_type": "code",
   "execution_count": 1,
   "id": "2e3aa94f-3dd9-4965-a07f-f52624706289",
   "metadata": {},
   "outputs": [],
   "source": [
    "import cv2\n",
    "import numpy as np"
   ]
  },
  {
   "cell_type": "code",
   "execution_count": 2,
   "id": "7eec282b-ea0b-4023-9049-520b38bf3254",
   "metadata": {},
   "outputs": [],
   "source": [
    "# List to store points of the polygon\n",
    "polygon_points = []\n",
    "all_polygons = []  # List to store all polygons\n"
   ]
  },
  {
   "cell_type": "code",
   "execution_count": 3,
   "id": "4343e439-53b1-4e40-b04a-ca7c7deeb6f0",
   "metadata": {},
   "outputs": [],
   "source": [
    "# Mouse callback function to capture clicks and store coordinates\n",
    "def get_polygon_coordinates(event, x, y, flags, param):\n",
    "    global polygon_points\n",
    "\n",
    "    if event == cv2.EVENT_LBUTTONDOWN:\n",
    "        # Add point to the polygon points list\n",
    "        polygon_points.append((x, y))\n",
    "        print(f\"Point added: {x}, {y}\")\n",
    "\n",
    "        # After 4 points, store the polygon and reset for new selection\n",
    "        if len(polygon_points) == 4:\n",
    "            all_polygons.append(np.array(polygon_points, np.int32))\n",
    "            print(f\"Polygon added: {polygon_points}\")\n",
    "            polygon_points.clear()  # Clear for the next selection\n"
   ]
  },
  {
   "cell_type": "code",
   "execution_count": 4,
   "id": "7ac2df2e-6555-4670-8dfb-849a59662e9a",
   "metadata": {},
   "outputs": [],
   "source": [
    "# Load the video and get the first frame to select the polygon\n",
    "video_path = 'C:\\\\Users\\\\Balaji\\\\Vehicle-Detection-and-Classification-Using-Computer-Vision\\\\56310-479197605.mp4'\n",
    "cap = cv2.VideoCapture(video_path)"
   ]
  },
  {
   "cell_type": "code",
   "execution_count": 5,
   "id": "5e07672f-f6f3-475a-af1a-186ed0f08d11",
   "metadata": {},
   "outputs": [],
   "source": [
    "if not cap.isOpened():\n",
    "    print(f\"Error: Could not open video {video_path}\")\n",
    "    exit()\n",
    "\n",
    "ret, frame = cap.read()\n",
    "\n",
    "if not ret:\n",
    "    print(\"Error: Could not read the first frame.\")\n",
    "    exit()"
   ]
  },
  {
   "cell_type": "code",
   "execution_count": 6,
   "id": "10d3d570-c726-4bd5-acaa-2c7a76f62cdc",
   "metadata": {},
   "outputs": [
    {
     "name": "stdout",
     "output_type": "stream",
     "text": [
      "Click to select points for the polygon. Press 'q' when done.\n"
     ]
    }
   ],
   "source": [
    "# Get the original dimensions of the video frame\n",
    "frame_height, frame_width = frame.shape[:2]\n",
    "\n",
    "# Create a window with the same size as the video frame\n",
    "cv2.namedWindow('Select Polygon Region', cv2.WINDOW_NORMAL)\n",
    "cv2.resizeWindow('Select Polygon Region', frame_width, frame_height)\n",
    "\n",
    "# Set mouse callback to capture polygon points\n",
    "cv2.setMouseCallback('Select Polygon Region', get_polygon_coordinates)\n",
    "\n",
    "print(\"Click to select points for the polygon. Press 'q' when done.\")"
   ]
  },
  {
   "cell_type": "code",
   "execution_count": 7,
   "id": "99ce290f-b592-4781-8db2-deb320f9b0f4",
   "metadata": {},
   "outputs": [
    {
     "name": "stdout",
     "output_type": "stream",
     "text": [
      "Point added: 737, 624\n",
      "Point added: 151, 559\n",
      "Point added: 152, 318\n",
      "Point added: 807, 374\n",
      "Polygon added: [(737, 624), (151, 559), (152, 318), (807, 374)]\n",
      "Point added: 1072, 571\n",
      "Point added: 1008, 387\n",
      "Point added: 1459, 365\n",
      "Point added: 1544, 538\n",
      "Polygon added: [(1072, 571), (1008, 387), (1459, 365), (1544, 538)]\n"
     ]
    }
   ],
   "source": [
    "while True:\n",
    "    # Create a copy of the frame to draw on\n",
    "    frame_copy = frame.copy()\n",
    "    \n",
    "    # Draw the selected points\n",
    "    for point in polygon_points:\n",
    "        cv2.circle(frame_copy, point, 5, (0, 255, 0), -1)  # Draw point in green\n",
    "\n",
    "    # Draw already completed polygons\n",
    "    for poly in all_polygons:\n",
    "        cv2.polylines(frame_copy, [poly], isClosed=True, color=(0, 0, 255), thickness=2)  # Draw polygons in red\n",
    "\n",
    "    # Draw the current polygon if there are at least 2 points\n",
    "    if len(polygon_points) >= 2:\n",
    "        cv2.polylines(frame_copy, [np.array(polygon_points)], isClosed=False, color=(255, 0, 0), thickness=2)  # Draw current selection in blue\n",
    "\n",
    "    # Show the frame at its original size\n",
    "    cv2.imshow('Select Polygon Region', frame_copy)\n",
    "\n",
    "    # Press 'q' to break and get the points\n",
    "    if cv2.waitKey(1) & 0xFF == ord('q'):\n",
    "        break"
   ]
  },
  {
   "cell_type": "code",
   "execution_count": 8,
   "id": "55fd6ef0-d1d7-4501-94e7-06c7515b36c7",
   "metadata": {},
   "outputs": [
    {
     "name": "stdout",
     "output_type": "stream",
     "text": [
      "Polygon 1 Coordinates: [[737 624]\n",
      " [151 559]\n",
      " [152 318]\n",
      " [807 374]]\n",
      "Polygon 2 Coordinates: [[1072  571]\n",
      " [1008  387]\n",
      " [1459  365]\n",
      " [1544  538]]\n"
     ]
    }
   ],
   "source": [
    "# Close the window\n",
    "cv2.destroyAllWindows()\n",
    "\n",
    "# Print all final polygon coordinates\n",
    "for i, poly in enumerate(all_polygons):\n",
    "    print(f\"Polygon {i + 1} Coordinates:\", poly)\n",
    "\n",
    "cap.release()"
   ]
  },
  {
   "cell_type": "code",
   "execution_count": null,
   "id": "3207708c-9c35-411c-90ca-05e85a186350",
   "metadata": {},
   "outputs": [],
   "source": []
  }
 ],
 "metadata": {
  "kernelspec": {
   "display_name": "Python 3 (ipykernel)",
   "language": "python",
   "name": "python3"
  },
  "language_info": {
   "codemirror_mode": {
    "name": "ipython",
    "version": 3
   },
   "file_extension": ".py",
   "mimetype": "text/x-python",
   "name": "python",
   "nbconvert_exporter": "python",
   "pygments_lexer": "ipython3",
   "version": "3.13.3"
  }
 },
 "nbformat": 4,
 "nbformat_minor": 5
}
